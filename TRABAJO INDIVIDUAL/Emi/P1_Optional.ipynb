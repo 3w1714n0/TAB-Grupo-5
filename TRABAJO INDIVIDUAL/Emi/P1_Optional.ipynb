{
 "cells": [
  {
   "cell_type": "markdown",
   "metadata": {},
   "source": [
    "<div style=\"background-color: #86CBBB; 1px; height:3px \" ></div>\n",
    "\n",
    "# The end: Optional integrative exercise\n"
   ]
  },
  {
   "cell_type": "markdown",
   "metadata": {},
   "source": [
    "In your research group you're analyzing the proteome (the set of proteins expressed by an organism or cell) of different species.\n",
    "\n",
    "Integrating different commands that you have learn during this practical, answer the following questions:\n",
    "\n",
    "1. Once you have downloaded the data (you cannot use `wget` with this link, so download it from the browser), unzip the file with the proper function according to the type of compression.\n",
    "2. Indicate the basic properties of this data: how many folders and files have you unzipped? How is the size of the files and folders? How many lines do they have? etc.\n",
    "\n",
    "Move the entire folder to the desktop, into a folder called <code>IntegrativeExerciseP1</code>. Answer the following biological questions:\n",
    "\n",
    "1. How many proteins does the human proteome have? And the mouse? (The human proteome is stored in the file <code>Homo_sapiens.GRCh38.pep.all.fa</code>and the mouse proteome in <code>Mus_musculus.GRCm38.pep.all.fa</code> and has the structure of a regular fasta file)\n",
    "2. Find, for all the files that contain the longest protein (the files that have the extension `.liso`), how many sequences they have contained\n",
    "3. List all protein names without the comment (the comment always starts after the first space in the sequence identifier of the fasta file)\n",
    "4. How many genes are contained in the human genome?\n",
    "5. How many genes have a single isoform?\n",
    "6. How many genes have more than one isoform?\n",
    "7. How many domains are there in the human proteome? How many are different? (The domains are in the file `Homo_sapiens.GRCh38.pep.all.fa.liso.dom` and always start with the identifier PF. Since the file is separated with multiple spaces, use the command `sed -r 's/ +/ /g '` to remove them by a single space first)\n",
    "8. How many times it is found the 19th most frequent domain? Which domain it is?\n"
   ]
  },
  {
   "cell_type": "markdown",
   "metadata": {},
   "source": [
    "<div style=\"background-color: #86CBBB; 1px; height:3px \" ></div>\n",
    "\n",
    "#### We have to change the working directory to the one which contains the zip file and unzip it"
   ]
  },
  {
   "cell_type": "code",
   "execution_count": 8,
   "metadata": {},
   "outputs": [
    {
     "name": "stdout",
     "output_type": "stream",
     "text": [
      "Archive:  PFAM_seqs.zip\n",
      "   creating: pfam/\n",
      "  inflating: pfam/Gallus_gallus.Galgal4.pep.all.fa.liso.dom  \n",
      "  inflating: pfam/Homo_sapiens.GRCh38.pep.all.fa.liso.dom  \n",
      "  inflating: pfam/Mus_musculus.GRCm38.pep.all.fa.liso.dom  \n",
      "   creating: seqs/\n",
      "  inflating: seqs/Gallus_gallus.Galgal4.pep.all.fa.liso  \n",
      "  inflating: seqs/Homo_sapiens.GRCh38.pep.all.fa  \n",
      "  inflating: seqs/Homo_sapiens.GRCh38.pep.all.fa.liso  \n",
      "  inflating: seqs/Mus_musculus.GRCm38.pep.all.fa  \n",
      "  inflating: seqs/Mus_musculus.GRCm38.pep.all.fa.liso  \n"
     ]
    }
   ],
   "source": [
    "%%bash\n",
    "cd ../../P1_TAB\n",
    "\n",
    "unzip PFAM_seqs.zip"
   ]
  },
  {
   "cell_type": "markdown",
   "metadata": {},
   "source": [
    "<div style=\"background-color: #86CBBB; 1px; height:3px \" ></div>\n",
    "\n",
    "#### Indicate the basic properties of this data: how many folders and files have you unzipped? How is the size of the files and folders? How many lines do they have? etc."
   ]
  },
  {
   "cell_type": "code",
   "execution_count": 17,
   "metadata": {},
   "outputs": [
    {
     "name": "stdout",
     "output_type": "stream",
     "text": [
      "animals.txt\n",
      "book_author.txt\n",
      "book_title.txt\n",
      "book_translate.txt\n",
      "colors.txt\n",
      "Dorian_Gray.txt\n",
      "pfam\n",
      "PFAM_seqs.zip\n",
      "seqs\n"
     ]
    }
   ],
   "source": [
    "%%bash\n",
    "\n",
    "cd ../../P1_TAB\n",
    "\n",
    "ls"
   ]
  },
  {
   "cell_type": "markdown",
   "metadata": {},
   "source": [
    "When we unzip the downloaded file, we obtain **two different folders**:\n",
    "- pfam\n",
    "- seqs\n",
    "\n",
    "<div style=\"background-color: #86CBBB; 1px; height:3px \" ></div>"
   ]
  },
  {
   "cell_type": "code",
   "execution_count": 15,
   "metadata": {},
   "outputs": [
    {
     "name": "stdout",
     "output_type": "stream",
     "text": [
      "Gallus_gallus.Galgal4.pep.all.fa.liso.dom\n",
      "Homo_sapiens.GRCh38.pep.all.fa.liso.dom\n",
      "Mus_musculus.GRCm38.pep.all.fa.liso.dom\n"
     ]
    }
   ],
   "source": [
    "%%bash\n",
    "\n",
    "cd ../../P1_TAB/pfam\n",
    "\n",
    "ls"
   ]
  },
  {
   "cell_type": "markdown",
   "metadata": {},
   "source": [
    "The \"pfam\" folder contains **three files** with information from:\n",
    "- _Gallus gallus_\n",
    "- _Homo Sapiens_\n",
    "- _Mus musculus_\n",
    "\n",
    "<div style=\"background-color: #86CBBB; 1px; height:3px \" ></div>"
   ]
  },
  {
   "cell_type": "code",
   "execution_count": 16,
   "metadata": {},
   "outputs": [
    {
     "name": "stdout",
     "output_type": "stream",
     "text": [
      "Gallus_gallus.Galgal4.pep.all.fa.liso\n",
      "Homo_sapiens.GRCh38.pep.all.fa\n",
      "Homo_sapiens.GRCh38.pep.all.fa.liso\n",
      "Mus_musculus.GRCm38.pep.all.fa\n",
      "Mus_musculus.GRCm38.pep.all.fa.liso\n"
     ]
    }
   ],
   "source": [
    "%%bash\n",
    "\n",
    "cd ../../P1_TAB/seqs\n",
    "\n",
    "ls"
   ]
  },
  {
   "cell_type": "markdown",
   "metadata": {},
   "source": [
    "The \"seqs\" folder contains **five files** with information from:\n",
    "- _Gallus gallus_\n",
    "- _Homo Sapiens_ x2\n",
    "- _Mus musculus_ x2\n",
    "\n",
    "<div style=\"background-color: #86CBBB; 1px; height:3px \" ></div>"
   ]
  },
  {
   "cell_type": "code",
   "execution_count": 29,
   "metadata": {},
   "outputs": [
    {
     "name": "stdout",
     "output_type": "stream",
     "text": [
      "16M\tpfam\n",
      "4,0M\tGallus_gallus.Galgal4.pep.all.fa.liso.dom\n",
      "6,1M\tHomo_sapiens.GRCh38.pep.all.fa.liso.dom\n",
      "5,8M\tMus_musculus.GRCm38.pep.all.fa.liso.dom\n",
      "156M\tseqs\n",
      "13M\tGallus_gallus.Galgal4.pep.all.fa.liso\n",
      "66M\tHomo_sapiens.GRCh38.pep.all.fa\n",
      "19M\tHomo_sapiens.GRCh38.pep.all.fa.liso\n",
      "42M\tMus_musculus.GRCm38.pep.all.fa\n",
      "18M\tMus_musculus.GRCm38.pep.all.fa.liso\n"
     ]
    }
   ],
   "source": [
    "%%bash\n",
    "\n",
    "cd ../../P1_TAB/\n",
    "\n",
    "#pfam folder size\n",
    "du -h pfam\n",
    "\n",
    "#pfam files size\n",
    "cd pfam\n",
    "\n",
    "du -h Gallus_gallus.Galgal4.pep.all.fa.liso.dom\n",
    "\n",
    "du -h Homo_sapiens.GRCh38.pep.all.fa.liso.dom\n",
    "\n",
    "du -h Mus_musculus.GRCm38.pep.all.fa.liso.dom\n",
    "\n",
    "#seqs folder size\n",
    "cd ..\n",
    "\n",
    "du -h seqs\n",
    "\n",
    "#seqs files size\n",
    "cd seqs\n",
    "\n",
    "du -h Gallus_gallus.Galgal4.pep.all.fa.liso\n",
    "\n",
    "du -h Homo_sapiens.GRCh38.pep.all.fa\n",
    "\n",
    "du -h Homo_sapiens.GRCh38.pep.all.fa.liso\n",
    "\n",
    "du -h Mus_musculus.GRCm38.pep.all.fa\n",
    "\n",
    "du -h Mus_musculus.GRCm38.pep.all.fa.liso"
   ]
  },
  {
   "cell_type": "markdown",
   "metadata": {},
   "source": [
    "The command **du -h**, shows the size of the folder/file, followed by the name of the folder or file.\n",
    "\n",
    "\n",
    "<div style=\"background-color: #86CBBB; 1px; height:3px \" ></div>"
   ]
  },
  {
   "cell_type": "code",
   "execution_count": 30,
   "metadata": {},
   "outputs": [
    {
     "name": "stdout",
     "output_type": "stream",
     "text": [
      "29955 Gallus_gallus.Galgal4.pep.all.fa.liso.dom\n",
      "47173 Homo_sapiens.GRCh38.pep.all.fa.liso.dom\n",
      "43355 Mus_musculus.GRCm38.pep.all.fa.liso.dom\n",
      "146255 Gallus_gallus.Galgal4.pep.all.fa.liso\n",
      "796078 Homo_sapiens.GRCh38.pep.all.fa\n",
      "215686 Homo_sapiens.GRCh38.pep.all.fa.liso\n",
      "511577 Mus_musculus.GRCm38.pep.all.fa\n",
      "205169 Mus_musculus.GRCm38.pep.all.fa.liso\n"
     ]
    }
   ],
   "source": [
    "%%bash\n",
    "\n",
    "#pfam files lines\n",
    "cd ../../P1_TAB/pfam\n",
    "\n",
    "wc -l Gallus_gallus.Galgal4.pep.all.fa.liso.dom\n",
    "\n",
    "wc -l Homo_sapiens.GRCh38.pep.all.fa.liso.dom\n",
    "\n",
    "wc -l Mus_musculus.GRCm38.pep.all.fa.liso.dom\n",
    "\n",
    "#seqs files lines\n",
    "cd ../seqs\n",
    "\n",
    "\n",
    "wc -l Gallus_gallus.Galgal4.pep.all.fa.liso\n",
    "\n",
    "wc -l Homo_sapiens.GRCh38.pep.all.fa\n",
    "\n",
    "wc -l Homo_sapiens.GRCh38.pep.all.fa.liso\n",
    "\n",
    "wc -l Mus_musculus.GRCm38.pep.all.fa\n",
    "\n",
    "wc -l Mus_musculus.GRCm38.pep.all.fa.liso"
   ]
  },
  {
   "cell_type": "markdown",
   "metadata": {},
   "source": [
    "The command **wc -l**, shows the lines of the file, followed by the file's name.\n",
    "<div style=\"background-color: #86CBBB; 1px; height:3px \" ></div>"
   ]
  },
  {
   "cell_type": "code",
   "execution_count": 44,
   "metadata": {},
   "outputs": [],
   "source": [
    "%%bash\n",
    "\n",
    "cd ../../Escritorio\n",
    "mkdir IntegrativeExerciseP1"
   ]
  },
  {
   "cell_type": "code",
   "execution_count": 51,
   "metadata": {},
   "outputs": [
    {
     "name": "stdout",
     "output_type": "stream",
     "text": [
      "pfam\n",
      "seqs\n"
     ]
    }
   ],
   "source": [
    "%%bash\n",
    "\n",
    "cd ../../P1_TAB\n",
    "mv pfam ../Escritorio/IntegrativeExerciseP1/pfam\n",
    "\n",
    "mv seqs ../Escritorio/IntegrativeExerciseP1/seqs\n",
    "\n",
    "cd ../Escritorio/IntegrativeExerciseP1\n",
    "ls"
   ]
  },
  {
   "cell_type": "markdown",
   "metadata": {},
   "source": [
    "<div style=\"background-color: #86CBBB; 1px; height:3px \" ></div>\n",
    "\n",
    "#### 1. How many proteins does the human proteome have? And the mouse?"
   ]
  },
  {
   "cell_type": "code",
   "execution_count": 1,
   "metadata": {},
   "outputs": [
    {
     "name": "stdout",
     "output_type": "stream",
     "text": [
      "102915\n",
      "58668\n"
     ]
    }
   ],
   "source": [
    "%%bash\n",
    "\n",
    "cd ../../Escritorio/IntegrativeExerciseP1/seqs\n",
    "\n",
    "grep -c \">\" Homo_sapiens.GRCh38.pep.all.fa \n",
    "grep -c \">\" Mus_musculus.GRCm38.pep.all.fa"
   ]
  },
  {
   "cell_type": "markdown",
   "metadata": {},
   "source": [
    "- The human proteome have **102915 proteins**.\n",
    "- The mouse proteome have **58668 proteins**.\n",
    "\n",
    "*To find the total number of proteins, as we know that it is a fasta file, we know that they start with the symbol \">\", so we count how many times this symbol appears.*"
   ]
  },
  {
   "cell_type": "markdown",
   "metadata": {},
   "source": [
    "<div style=\"background-color: #86CBBB; 1px; height:3px \" ></div>\n",
    "\n",
    "\n",
    "#### 2. Find, for all the files that contain the longest protein (the files that have the extension .liso), how many sequences they have contained."
   ]
  },
  {
   "cell_type": "code",
   "execution_count": 2,
   "metadata": {},
   "outputs": [
    {
     "name": "stdout",
     "output_type": "stream",
     "text": [
      "15508\n",
      "22964\n",
      "22769\n"
     ]
    }
   ],
   "source": [
    "%%bash\n",
    "\n",
    "cd ../../Escritorio/IntegrativeExerciseP1/seqs\n",
    "\n",
    "grep -c \">\" Gallus_gallus.Galgal4.pep.all.fa.liso\n",
    "grep -c \">\" Homo_sapiens.GRCh38.pep.all.fa.liso\n",
    "grep -c \">\" Mus_musculus.GRCm38.pep.all.fa.liso"
   ]
  },
  {
   "cell_type": "markdown",
   "metadata": {},
   "source": [
    "- The *Gallus gallus* file contains **15508 sequences**.\n",
    "- The *Homo sapiens* file contains **22964 sequences**.\n",
    "- The *Mus musculus* file contains **22769 sequences**.\n",
    "\n",
    "\n",
    "*In this case we look at the folders containing the longest protein encoded by each gene. To do this, we also count how many times the character \">\" appears.*"
   ]
  },
  {
   "cell_type": "markdown",
   "metadata": {},
   "source": [
    "<div style=\"background-color: #86CBBB; 1px; height:3px \" ></div>\n",
    "\n",
    "\n",
    "#### 3. List all protein names without the comment."
   ]
  },
  {
   "cell_type": "code",
   "execution_count": 1,
   "metadata": {},
   "outputs": [
    {
     "name": "stdout",
     "output_type": "stream",
     "text": [
      "ENSP00000452494.1\n",
      "ENSP00000488240.1\n",
      "ENSP00000487941.1\n",
      "ENSP00000451515.1\n",
      "ENSP00000451042.1\n",
      "ENSP00000488261.1\n",
      "ENSP00000487812.1\n",
      "ENSP00000475053.2\n",
      "ENSP00000417751.1\n",
      "ENSP00000488475.1\n",
      "ENSP00000418639.1\n",
      "ENSP00000487775.1\n",
      "ENSP00000488083.1\n",
      "ENSP00000488720.1\n",
      "ENSP00000487789.1\n",
      "ENSP00000488168.1\n",
      "ENSP00000419139.1\n",
      "ENSP00000488589.1\n",
      "ENSP00000487937.1\n",
      "ENSP00000419564.1\n"
     ]
    }
   ],
   "source": [
    "%%bash\n",
    "\n",
    "cd ../../Escritorio/IntegrativeExerciseP1/seqs\n",
    "\n",
    "cut -f1 -d\" \"  Homo_sapiens.GRCh38.pep.all.fa | grep \">\" | cut -f2 -d\">\" | head -n 20"
   ]
  },
  {
   "cell_type": "code",
   "execution_count": 2,
   "metadata": {},
   "outputs": [
    {
     "name": "stdout",
     "output_type": "stream",
     "text": [
      "ENSMUSP00000142546.1\n",
      "ENSMUSP00000142955.1\n",
      "ENSMUSP00000141764.1\n",
      "ENSMUSP00000141312.1\n",
      "ENSMUSP00000142153.1\n",
      "ENSMUSP00000141970.1\n",
      "ENSMUSP00000142162.1\n",
      "ENSMUSP00000141399.1\n",
      "ENSMUSP00000141414.1\n",
      "ENSMUSP00000141374.1\n",
      "ENSMUSP00000141376.1\n",
      "ENSMUSP00000141852.1\n",
      "ENSMUSP00000141615.1\n",
      "ENSMUSP00000141202.1\n",
      "ENSMUSP00000141703.1\n",
      "ENSMUSP00000141697.1\n",
      "ENSMUSP00000142226.1\n",
      "ENSMUSP00000142199.1\n",
      "ENSMUSP00000141415.1\n",
      "ENSMUSP00000142229.1\n"
     ]
    }
   ],
   "source": [
    "%%bash\n",
    "\n",
    "cd ../../Escritorio/IntegrativeExerciseP1/seqs\n",
    "\n",
    "cut -f1 -d\" \"  Mus_musculus.GRCm38.pep.all.fa | grep \">\" | cut -f2 -d\">\" | head -n 20"
   ]
  },
  {
   "cell_type": "markdown",
   "metadata": {},
   "source": [
    "*First, we \"cut\" the lines according to the space separations, and field 1 corresponds to the protein identifier (cut -f1 -d\" \"), with which we are kept. Then, following the same procedure, we have \"cut\" the symbol \">\", leaving us with the second field, which corresponds to the protein identifier without >.*\n",
    "\n",
    "**NOTE:** I use the \"head -n 20\" command to show a shorter protein list (less file size), but without it, you can see all the proteins. "
   ]
  },
  {
   "cell_type": "markdown",
   "metadata": {},
   "source": [
    "<div style=\"background-color: #86CBBB; 1px; height:3px \" ></div>\n",
    "\n",
    "\n",
    "#### 4. How many genes are contained in the human genome?"
   ]
  },
  {
   "cell_type": "code",
   "execution_count": 13,
   "metadata": {},
   "outputs": [
    {
     "name": "stdout",
     "output_type": "stream",
     "text": [
      "22964\n"
     ]
    }
   ],
   "source": [
    "%%bash\n",
    "\n",
    "cd ../../Escritorio/IntegrativeExerciseP1/seqs\n",
    "\n",
    "cat Homo_sapiens.GRCh38.pep.all.fa| tr ' ' '\\n' | grep \"gene:E\" | sort | uniq | wc -l"
   ]
  },
  {
   "cell_type": "markdown",
   "metadata": {},
   "source": [
    "- The *Homo sapiens* file contains **22964 genes** contained in the human genome.\n",
    "\n",
    "\n",
    "*To do this, we divided the file by elements (each element to a line), and then we kept those lines that contained \"gene:E\" (to obtain the genes), we sorted, and then with \"uniq\" we kept only one repetition of each gene (since it is possible that several proteins come from the same gene) and finally we counted how many lines resulted.*"
   ]
  },
  {
   "cell_type": "markdown",
   "metadata": {},
   "source": [
    "<div style=\"background-color: #86CBBB; 1px; height:3px \" ></div>\n",
    "\n",
    "\n",
    "#### 5. How many genes have a single isoform?"
   ]
  },
  {
   "cell_type": "code",
   "execution_count": 14,
   "metadata": {},
   "outputs": [
    {
     "name": "stdout",
     "output_type": "stream",
     "text": [
      "5730\n"
     ]
    }
   ],
   "source": [
    "%%bash\n",
    "\n",
    "cd ../../Escritorio/IntegrativeExerciseP1/seqs\n",
    "\n",
    "cat Homo_sapiens.GRCh38.pep.all.fa| tr ' ' '\\n' | grep \"gene:E\" | sort | uniq -u| wc -l"
   ]
  },
  {
   "cell_type": "markdown",
   "metadata": {},
   "source": [
    "- The *Homo sapiens* file contains **5730 genes** that have a single isoform.\n",
    "\n",
    "\n",
    "*In this case we have to find the genes that have only one associated protein. To do so, we follow the same procedure as in the previous exercise, but in this case we use \"uniq -u\" because it allows us to obtain those lines that are not repeated (i.e. that only appear once), which correspond to genes that have only one isoform.*"
   ]
  },
  {
   "cell_type": "markdown",
   "metadata": {},
   "source": [
    "<div style=\"background-color: #86CBBB; 1px; height:3px \" ></div>\n",
    "\n",
    "\n",
    "#### 6. How many genes have more than one isoform?"
   ]
  },
  {
   "cell_type": "code",
   "execution_count": 15,
   "metadata": {},
   "outputs": [
    {
     "name": "stdout",
     "output_type": "stream",
     "text": [
      "17234\n"
     ]
    }
   ],
   "source": [
    "%%bash\n",
    "\n",
    "cd ../../Escritorio/IntegrativeExerciseP1/seqs\n",
    "\n",
    "cat Homo_sapiens.GRCh38.pep.all.fa| tr ' ' '\\n' | grep \"gene:E\" | sort | uniq -d| wc -l"
   ]
  },
  {
   "cell_type": "markdown",
   "metadata": {},
   "source": [
    "- The *Homo sapiens* file contains **17234 genes** that have more than one isoform.\n",
    "\n",
    "\n",
    "*In this case we have to make the opposite approach to the previous exercise, that is, to obtain those genes that have more than one associated protein (therefore they have more than one isoform). To do so, the procedure is the same but instead of using \"uniq -u\", we use \"uniq -d\", since it allows us to obtain the lines that are repeated (therefore the genes that appear more than once in the protein file).*"
   ]
  },
  {
   "cell_type": "markdown",
   "metadata": {},
   "source": [
    "<div style=\"background-color: #86CBBB; 1px; height:3px \" ></div>\n",
    "\n",
    "\n",
    "#### 7. How many domains are there in the human proteome? How many are different?"
   ]
  },
  {
   "cell_type": "code",
   "execution_count": 24,
   "metadata": {},
   "outputs": [
    {
     "name": "stdout",
     "output_type": "stream",
     "text": [
      "47144\n",
      "34949\n"
     ]
    }
   ],
   "source": [
    "%%bash\n",
    "\n",
    "cd ../../Escritorio/IntegrativeExerciseP1/pfam\n",
    "\n",
    "cat Homo_sapiens.GRCh38.pep.all.fa.liso.dom | sed \"s/  */ /g\"| cut -d\" \" -f6| grep \"PF\"| wc -l\n",
    "cat Homo_sapiens.GRCh38.pep.all.fa.liso.dom | sed \"s/  */ /g\"| cut -d\" \" -f6| grep \"PF\"| uniq| wc -l"
   ]
  },
  {
   "cell_type": "markdown",
   "metadata": {},
   "source": [
    "- The *Homo sapiens* file contains **47144 domains**, of which **34949** are different.\n",
    "\n",
    "\n",
    "*Taking into account that the column containing the domain identifiers is the sixth one, we separated by spaces using \"cut\", and we kept the field 6. Then, we used \"grep \"PF\"\" to ensure that only the domain identifiers were taken into account, and finally we counted the resulting lines.*\n",
    "\n",
    "*In the second section, to know how many are different, the only change is that we have to do \"uniq\", to obtain only one representation of each domain, so we can count how many are different.*"
   ]
  },
  {
   "cell_type": "markdown",
   "metadata": {},
   "source": [
    "<div style=\"background-color: #86CBBB; 1px; height:3px \" ></div>\n",
    "\n",
    "\n",
    "#### 8. How many times it is found the 19th most frequent domain? Which domain it is?"
   ]
  },
  {
   "cell_type": "code",
   "execution_count": 25,
   "metadata": {},
   "outputs": [
    {
     "name": "stdout",
     "output_type": "stream",
     "text": [
      "    293 PF00001.19\n"
     ]
    }
   ],
   "source": [
    "%%bash\n",
    "\n",
    "cd ../../Escritorio/IntegrativeExerciseP1/pfam\n",
    "\n",
    "cat Homo_sapiens.GRCh38.pep.all.fa.liso.dom | sed \"s/  */ /g\"| cut -d\" \" -f6| grep \"PF\"| sort| uniq -c| sort -nr| head -n 19| tail -n 1"
   ]
  },
  {
   "cell_type": "markdown",
   "metadata": {},
   "source": [
    "- The 19th most frequent domain (**PF00001.19**) is found **293 times**.\n",
    "\n",
    "\n",
    "*First we have filtered also by the field containing the domain identifiers, then we have made a sort, to later count how many times each one appears (with the uniq -c). Afterwards, the sort -nr orders numerically and decreasingly the result, so that with the head and the tail we can keep the 19th result, which corresponds to the 19th most frequent domain.*"
   ]
  }
 ],
 "metadata": {
  "kernelspec": {
   "display_name": "Python 3",
   "language": "python",
   "name": "python3"
  },
  "language_info": {
   "codemirror_mode": {
    "name": "ipython",
    "version": 3
   },
   "file_extension": ".py",
   "mimetype": "text/x-python",
   "name": "python",
   "nbconvert_exporter": "python",
   "pygments_lexer": "ipython3",
   "version": "3.8.5"
  }
 },
 "nbformat": 4,
 "nbformat_minor": 4
}
